{
 "cells": [
  {
   "cell_type": "code",
   "execution_count": 1,
   "id": "7bca3eb6-19c9-44fc-86fd-e6d35f4db57f",
   "metadata": {
    "tags": []
   },
   "outputs": [],
   "source": [
    "import pandas as pd\n",
    "import seaborn as sns\n",
    "import numpy as np"
   ]
  },
  {
   "cell_type": "code",
   "execution_count": 4,
   "id": "d3039dfb-8fef-4030-89f6-28bad72df4a8",
   "metadata": {
    "tags": []
   },
   "outputs": [],
   "source": [
    "# Carregar o conjunto de dados"
   ]
  },
  {
   "cell_type": "code",
   "execution_count": 2,
   "id": "484dd794-8b46-4526-b4a5-2f1194f53159",
   "metadata": {
    "tags": []
   },
   "outputs": [],
   "source": [
    "df = sns.load_dataset(\"healthexp\")"
   ]
  },
  {
   "cell_type": "code",
   "execution_count": 11,
   "id": "aa2cd694-ff61-4a3b-b963-0700c303a694",
   "metadata": {
    "tags": []
   },
   "outputs": [
    {
     "data": {
      "text/html": [
       "<div>\n",
       "<style scoped>\n",
       "    .dataframe tbody tr th:only-of-type {\n",
       "        vertical-align: middle;\n",
       "    }\n",
       "\n",
       "    .dataframe tbody tr th {\n",
       "        vertical-align: top;\n",
       "    }\n",
       "\n",
       "    .dataframe thead th {\n",
       "        text-align: right;\n",
       "    }\n",
       "</style>\n",
       "<table border=\"1\" class=\"dataframe\">\n",
       "  <thead>\n",
       "    <tr style=\"text-align: right;\">\n",
       "      <th></th>\n",
       "      <th>Year</th>\n",
       "      <th>Country</th>\n",
       "      <th>Spending_USD</th>\n",
       "      <th>Life_Expectancy</th>\n",
       "    </tr>\n",
       "  </thead>\n",
       "  <tbody>\n",
       "    <tr>\n",
       "      <th>0</th>\n",
       "      <td>1970</td>\n",
       "      <td>Germany</td>\n",
       "      <td>252.311</td>\n",
       "      <td>70.6</td>\n",
       "    </tr>\n",
       "    <tr>\n",
       "      <th>1</th>\n",
       "      <td>1970</td>\n",
       "      <td>France</td>\n",
       "      <td>192.143</td>\n",
       "      <td>72.2</td>\n",
       "    </tr>\n",
       "    <tr>\n",
       "      <th>2</th>\n",
       "      <td>1970</td>\n",
       "      <td>Great Britain</td>\n",
       "      <td>123.993</td>\n",
       "      <td>71.9</td>\n",
       "    </tr>\n",
       "    <tr>\n",
       "      <th>3</th>\n",
       "      <td>1970</td>\n",
       "      <td>Japan</td>\n",
       "      <td>150.437</td>\n",
       "      <td>72.0</td>\n",
       "    </tr>\n",
       "    <tr>\n",
       "      <th>4</th>\n",
       "      <td>1970</td>\n",
       "      <td>USA</td>\n",
       "      <td>326.961</td>\n",
       "      <td>70.9</td>\n",
       "    </tr>\n",
       "  </tbody>\n",
       "</table>\n",
       "</div>"
      ],
      "text/plain": [
       "   Year        Country  Spending_USD  Life_Expectancy\n",
       "0  1970        Germany       252.311             70.6\n",
       "1  1970         France       192.143             72.2\n",
       "2  1970  Great Britain       123.993             71.9\n",
       "3  1970          Japan       150.437             72.0\n",
       "4  1970            USA       326.961             70.9"
      ]
     },
     "execution_count": 11,
     "metadata": {},
     "output_type": "execute_result"
    }
   ],
   "source": [
    "df .head()"
   ]
  },
  {
   "cell_type": "code",
   "execution_count": 5,
   "id": "ec1cd8ed-9892-46cf-9d61-0e937f2564de",
   "metadata": {
    "tags": []
   },
   "outputs": [],
   "source": [
    "# Obter informações sobre os tipos de dados e valores únicos de cada coluna"
   ]
  },
  {
   "cell_type": "code",
   "execution_count": 6,
   "id": "73e11a33-4cc1-4f22-8828-26e259253a4a",
   "metadata": {
    "tags": []
   },
   "outputs": [],
   "source": [
    "data_dict = {}"
   ]
  },
  {
   "cell_type": "code",
   "execution_count": 10,
   "id": "1f3f5fe1-f50e-42a7-b0e2-522be71c3048",
   "metadata": {
    "tags": []
   },
   "outputs": [
    {
     "name": "stdout",
     "output_type": "stream",
     "text": [
      "Coluna: Year\n",
      "  Tipo de dados: int64\n",
      "  Valores únicos: [1970, 1971, 1972, 1973, 1974, 1975, 1976, 1977, 1978, 1979, 1980, 1981, 1982, 1983, 1984, 1985, 1986, 1987, 1988, 1989, 1990, 1991, 1992, 1993, 1994, 1995, 1996, 1997, 1998, 1999, 2000, 2001, 2002, 2003, 2004, 2005, 2006, 2007, 2008, 2009, 2010, 2011, 2012, 2013, 2014, 2015, 2016, 2017, 2018, 2019, 2020]\n",
      "\n",
      "Coluna: Country\n",
      "  Tipo de dados: object\n",
      "  Valores únicos: ['Germany', 'France', 'Great Britain', 'Japan', 'USA', 'Canada']\n",
      "\n",
      "Coluna: Spending_USD\n",
      "  Tipo de dados: float64\n",
      "  Valores únicos: [252.311, 192.143, 123.993, 150.437, 326.961, 313.391, 298.251, 134.172, 163.854, 357.988, 337.364, 185.39, 397.097, 384.541, 205.778, 439.302, 452.744, 242.018, 495.114, 532.481, 363.61, 284.269, 560.75, 543.337, 591.098, 303.725, 638.851, 647.352, 340.628, 726.241, 729.457, 392.577, 808.884, 692.269, 800.703, 452.931, 908.963, 791.812, 908.166, 659.826, 385.099, 535.016, 1036.3, 898.807, 1014.713, 433.957, 603.965, 1191.537, 996.086, 1044.528, 448.477, 664.777, 1329.669, 1066.746, 1104.594, 501.924, 714.857, 1451.945, 1135.02, 1196.56, 521.522, 745.981, 1590.667, 1212.85, 1298.555, 1001.145, 549.608, 818.382, 1735.156, 1278.816, 1386.51, 578.61, 859.855, 1847.773, 1357.453, 1480.096, 634.956, 916.703, 1976.166, 1461.3, 1616.349, 688.049, 969.251, 2195.392, 1579.543, 1596.16, 739.714, 1021.247, 2424.654, 1699.774, 1724.332, 1459.11, 782.612, 1088.959, 2684.984, 1805.209, 1558.033, 842.797, 1166.43, 2901.589, 1897.456, 2019.308, 1651.139, 930.701, 1253.415, 3100.343, 1930.889, 2040.313, 1753.485, 995.728, 1332.213, 3286.558, 1962.196, 2188.676, 1817.042, 1058.68, 1420.271, 3432.101, 1984.944, 2349.145, 2100.918, 1094.034, 1413.445, 3586.745, 1999.778, 2480.217, 2169.451, 1171.591, 1436.372, 4158.928, 2091.997, 2496.201, 2236.595, 1507.352, 1529.586, 3894.282, 2200.468, 2566.003, 2321.931, 1572.097, 1571.107, 4061.536, 2278.254, 2697.878, 2431.303, 1683.905, 1667.922, 4261.996, 2450.593, 2895.533, 2687.53, 1897.202, 1847.786, 4536.561, 2624.293, 3009.368, 2875.294, 2067.167, 1945.556, 4888.518, 2758.065, 3239.77, 3152.016, 2287.476, 2065.133, 5316.522, 2914.206, 3329.374, 3056.265, 2469.159, 2194.437, 5726.538, 3122.396, 3391.521, 3170.947, 2724.869, 2303.68, 6069.53, 3291.912, 3429.955, 3264.574, 2731.445, 2471.186, 6430.757, 3486.621, 3567.061, 3444.855, 2952.329, 2561.219, 6808.054, 3709.615, 3750.787, 3588.227, 3021.671, 2689.916, 7166.513, 3849.544, 3955.136, 3729.353, 3207.853, 2799.198, 7385.026, 3945.873, 4158.266, 3880.842, 3334.506, 2971.377, 7645.002, 4155.529, 4423.07, 4045.065, 3441.71, 3169.19, 7879.253, 4228.962, 4566.678, 4161.698, 3495.652, 3740.756, 8079.467, 4336.249, 4745.546, 4299.434, 3614.131, 3970.765, 8346.064, 4428.753, 4951.677, 4544.964, 3667.636, 4308.252, 8519.62, 4536.81, 5151.709, 4626.679, 3758.935, 4328.364, 8925.879, 4635.285, 5295.975, 4667.156, 3805.82, 4515.556, 9355.118, 5044.275, 5669.064, 4928.128, 3960.141, 4295.858, 9717.649, 5150.47, 5970.163, 5005.756, 4059.125, 4412.852, 10046.472, 5308.356, 6281.84, 5099.306, 4189.708, 4554.276, 10451.386, 5189.721, 6407.928, 5167.839, 4385.463, 4610.794, 10855.517, 5828.324, 6938.983, 5468.418, 5018.7, 4665.641, 11859.179]\n",
      "\n",
      "Coluna: Life_Expectancy\n",
      "  Tipo de dados: float64\n",
      "  Valores únicos: [70.6, 72.2, 71.9, 72.0, 70.9, 72.8, 70.8, 72.9, 71.2, 71.0, 73.2, 71.3, 73.4, 71.4, 71.5, 73.7, 73.0, 74.3, 72.7, 73.8, 71.8, 74.8, 72.5, 75.3, 73.3, 72.4, 75.7, 73.5, 75.1, 76.2, 73.9, 75.2, 76.1, 75.5, 76.5, 74.1, 75.6, 76.9, 74.5, 75.9, 77.0, 74.6, 77.4, 74.7, 76.3, 75.0, 75.4, 77.6, 78.1, 76.7, 78.5, 74.9, 76.8, 78.4, 77.1, 76.0, 78.8, 77.3, 78.9, 77.2, 79.1, 77.8, 77.5, 79.2, 79.4, 77.9, 78.0, 79.8, 76.6, 79.6, 78.2, 80.3, 78.3, 78.6, 80.5, 77.7, 80.6, 81.2, 79.3, 81.5, 79.5, 81.8, 79.9, 79.0, 82.1, 80.0, 80.4, 82.0, 81.0, 82.4, 80.1, 79.7, 82.6, 80.7, 80.2, 81.4, 82.7, 80.9, 83.0, 82.9, 82.3, 78.7, 81.6, 83.2, 81.7, 81.1, 83.4, 82.8, 83.7, 81.9, 83.9, 84.1, 81.3, 84.2, 84.3, 82.2, 84.4, 84.7]\n",
      "\n"
     ]
    }
   ],
   "source": [
    "for column in df.columns:\n",
    "    # Obter o tipo de dados da coluna\n",
    "    tipo_dados = df[column].dtype\n",
    "    \n",
    "    # Obter os valores únicos da coluna\n",
    "    valores_unicos = df[column].unique().tolist()\n",
    "    \n",
    "    # Adicionar informações ao dicionário\n",
    "    data_dict[column] = {\n",
    "        \"Tipo de dados\": tipo_dados,\n",
    "        \"Valores únicos\": valores_unicos\n",
    "    }\n",
    "\n",
    "# Imprimir o dicionário formatado\n",
    "for coluna, info in data_dict.items():\n",
    "    print(f\"Coluna: {coluna}\")\n",
    "    print(f\"  Tipo de dados: {info['Tipo de dados']}\")\n",
    "    print(f\"  Valores únicos: {info['Valores únicos']}\\n\")"
   ]
  },
  {
   "cell_type": "code",
   "execution_count": null,
   "id": "ddbd0dc4-1b88-4d36-9185-cd7a8e1a5f2e",
   "metadata": {},
   "outputs": [],
   "source": []
  }
 ],
 "metadata": {
  "kernelspec": {
   "display_name": "Python 3 (ipykernel)",
   "language": "python",
   "name": "python3"
  },
  "language_info": {
   "codemirror_mode": {
    "name": "ipython",
    "version": 3
   },
   "file_extension": ".py",
   "mimetype": "text/x-python",
   "name": "python",
   "nbconvert_exporter": "python",
   "pygments_lexer": "ipython3",
   "version": "3.10.12"
  }
 },
 "nbformat": 4,
 "nbformat_minor": 5
}
