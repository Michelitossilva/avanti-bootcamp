{
 "cells": [
  {
   "cell_type": "code",
   "execution_count": 1,
   "id": "05b4c320-f05b-4e8a-bfc5-6de1e7632ef1",
   "metadata": {
    "tags": []
   },
   "outputs": [],
   "source": [
    "import matplotlib.pyplot as plt\n",
    "import pandas as pd\n",
    "import seaborn as sns\n",
    "import numpy as np"
   ]
  },
  {
   "cell_type": "code",
   "execution_count": 2,
   "id": "070b8186-b123-4adb-83cc-6e4392487bcb",
   "metadata": {
    "tags": []
   },
   "outputs": [],
   "source": [
    "# Carregar os dados"
   ]
  },
  {
   "cell_type": "code",
   "execution_count": 3,
   "id": "7062afe9-dec9-4d5b-9bf0-bf1a5918086b",
   "metadata": {
    "tags": []
   },
   "outputs": [],
   "source": [
    "data = {\n",
    "    'survived': [0, 1, 1, 1, 0],\n",
    "    'pclass': [3, 1, 3, 1, 3],\n",
    "    'sex': ['male', 'female', 'female', 'female', 'male'],\n",
    "    'age': [22.0, 38.0, 26.0, 35.0, 35.0],\n",
    "    'sibsp': [1, 1, 0, 1, 0],\n",
    "    'parch': [0, 0, 0, 0, 0],\n",
    "    'fare': [7.2500, 71.2833, 7.9250, 53.1000, 8.0500],\n",
    "    'embarked': ['S', 'C', 'S', 'S', 'S'],\n",
    "    'class': ['Third', 'First', 'Third', 'First', 'Third'],\n",
    "    'who': ['man', 'woman', 'woman', 'woman', 'man'],\n",
    "    'adult_male': [True, False, False, False, True],\n",
    "    'deck': [None, 'C', None, 'C', None],\n",
    "    'embark_town': ['Southampton', 'Cherbourg', 'Southampton', 'Southampton', 'Southampton'],\n",
    "    'alive': ['no', 'yes', 'yes', 'yes', 'no'],\n",
    "    'alone': [False, False, True, False, True]\n",
    "}\n",
    "\n",
    "df = pd.DataFrame(data)"
   ]
  },
  {
   "cell_type": "code",
   "execution_count": 4,
   "id": "c1a56205-2580-4e5a-893f-cc2f6dab93ca",
   "metadata": {
    "tags": []
   },
   "outputs": [],
   "source": [
    "# Visualizar as primeiras linhas do DataFrame"
   ]
  },
  {
   "cell_type": "code",
   "execution_count": 5,
   "id": "39e4ff52-cca9-413a-bd3b-ea18b1eacf99",
   "metadata": {
    "tags": []
   },
   "outputs": [
    {
     "name": "stdout",
     "output_type": "stream",
     "text": [
      "   survived  pclass     sex   age  sibsp  parch     fare embarked  class  \\\n",
      "0         0       3    male  22.0      1      0   7.2500        S  Third   \n",
      "1         1       1  female  38.0      1      0  71.2833        C  First   \n",
      "2         1       3  female  26.0      0      0   7.9250        S  Third   \n",
      "3         1       1  female  35.0      1      0  53.1000        S  First   \n",
      "4         0       3    male  35.0      0      0   8.0500        S  Third   \n",
      "\n",
      "     who  adult_male  deck  embark_town alive  alone  \n",
      "0    man        True  None  Southampton    no  False  \n",
      "1  woman       False     C    Cherbourg   yes  False  \n",
      "2  woman       False  None  Southampton   yes   True  \n",
      "3  woman       False     C  Southampton   yes  False  \n",
      "4    man        True  None  Southampton    no   True  \n"
     ]
    }
   ],
   "source": [
    "print(df.head())"
   ]
  },
  {
   "cell_type": "code",
   "execution_count": 6,
   "id": "5fdbc2d6-6d79-4586-8aab-d690463a55f1",
   "metadata": {
    "tags": []
   },
   "outputs": [],
   "source": [
    "## Contagem de sobreviventes por sexo"
   ]
  },
  {
   "cell_type": "code",
   "execution_count": 7,
   "id": "61b878ca-0084-4138-85dc-5e792a045e66",
   "metadata": {
    "tags": []
   },
   "outputs": [
    {
     "name": "stdout",
     "output_type": "stream",
     "text": [
      "\n",
      "Survivors by sex:\n",
      "sex\n",
      "female    3\n",
      "male      0\n",
      "Name: survived, dtype: int64\n"
     ]
    }
   ],
   "source": [
    "survived_sex = df.groupby('sex')['survived'].sum()\n",
    "print(\"\\nSurvivors by sex:\")\n",
    "print(survived_sex)"
   ]
  },
  {
   "cell_type": "code",
   "execution_count": 8,
   "id": "d8b2224f-fe50-41a6-bafd-2dc373fd9c12",
   "metadata": {
    "tags": []
   },
   "outputs": [],
   "source": [
    "## Gráfico de barras para visualizar a contagem de sobreviventes por sexo"
   ]
  },
  {
   "cell_type": "code",
   "execution_count": 9,
   "id": "15e48b7d-ae08-439c-b784-dc1393f02278",
   "metadata": {
    "tags": []
   },
   "outputs": [
    {
     "data": {
      "image/png": "[encoded data removed]",
      "text/plain": [
       "<Figure size 640x480 with 1 Axes>"
      ]
     },
     "metadata": {},
     "output_type": "display_data"
    }
   ],
   "source": [
    "survived_sex.plot(kind='bar', color=['blue', 'pink'])\n",
    "plt.title('Survivors by Sex')\n",
    "plt.ylabel('Number of Survivors')\n",
    "plt.xlabel('Sex')\n",
    "plt.xticks(rotation=0)\n",
    "plt.show()"
   ]
  },
  {
   "cell_type": "code",
   "execution_count": null,
   "id": "817bf6c6-178b-463d-9328-6f487e7fdeb1",
   "metadata": {},
   "outputs": [],
   "source": []
  },
  {
   "cell_type": "code",
   "execution_count": null,
   "id": "35afe874-5a3f-40ac-8291-5c444df33db0",
   "metadata": {},
   "outputs": [],
   "source": []
  }
 ],
 "metadata": {
  "kernelspec": {
   "display_name": "Python 3 (ipykernel)",
   "language": "python",
   "name": "python3"
  },
  "language_info": {
   "codemirror_mode": {
    "name": "ipython",
    "version": 3
   },
   "file_extension": ".py",
   "mimetype": "text/x-python",
   "name": "python",
   "nbconvert_exporter": "python",
   "pygments_lexer": "ipython3",
   "version": "3.10.12"
  }
 },
 "nbformat": 4,
 "nbformat_minor": 5
}
